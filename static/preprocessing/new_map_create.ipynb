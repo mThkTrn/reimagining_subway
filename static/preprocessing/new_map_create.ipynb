{
 "cells": [
  {
   "cell_type": "code",
   "execution_count": 21,
   "metadata": {},
   "outputs": [],
   "source": [
    "import json\n",
    "import itertools\n",
    "import math"
   ]
  },
  {
   "cell_type": "code",
   "execution_count": 22,
   "metadata": {},
   "outputs": [],
   "source": [
    "data = json.load(open(\"data/data.json\"))"
   ]
  },
  {
   "cell_type": "code",
   "execution_count": 23,
   "metadata": {},
   "outputs": [],
   "source": [
    "def data_grab(station, time):\n",
    "    try:\n",
    "        return data[\"stations\"][station][\"times\"][time][\"all_fare_classes\"][\"ridership\"]\n",
    "    except KeyError:\n",
    "        return 0\n",
    "\n",
    "favorabilities = {}\n",
    "\n",
    "def favorability(s1, s2):\n",
    "    if (s1, s2) in favorabilities:\n",
    "        return favorabilities[(s1, s2)]\n",
    "    else:\n",
    "        # print(f\"falling favorability(s1: {s1}, s2: {s2})\")\n",
    "        out = 0\n",
    "        for time in range(24):\n",
    "            time = f\"{time:02}:00:00.000\"\n",
    "            out += min(data_grab(s1, time), data_grab(s2, time))\n",
    "        try:\n",
    "            out = out/math.dist([float(data[\"stations\"][s1][\"longitude\"]), float(data[\"stations\"][s1][\"longitude\"])], [float(data[\"stations\"][s2][\"longitude\"]), float(data[\"stations\"][s2][\"longitude\"])])\n",
    "        except ZeroDivisionError:\n",
    "            out = out/(10**20)\n",
    "        favorabilities[(s1, s2)] = out\n",
    "        return out"
   ]
  },
  {
   "cell_type": "code",
   "execution_count": 24,
   "metadata": {},
   "outputs": [],
   "source": [
    "stations = set(data[\"stations\"].keys())\n",
    "\n",
    "n = 5 #number of lines"
   ]
  },
  {
   "cell_type": "code",
   "execution_count": 25,
   "metadata": {},
   "outputs": [
    {
     "name": "stdout",
     "output_type": "stream",
     "text": [
      "<itertools.combinations object at 0x000001834F7D6930>\n"
     ]
    }
   ],
   "source": [
    "combs = itertools.combinations(stations, n)\n",
    "\n",
    "\n",
    "leading = [(\"foo\", \"bar\", \"egg\", \"spam\", \"hello\"), 1_000_000_000_000_000]\n",
    "counter = 0\n",
    "\n",
    "print((combs))"
   ]
  },
  {
   "cell_type": "code",
   "execution_count": 26,
   "metadata": {},
   "outputs": [
    {
     "name": "stdout",
     "output_type": "stream",
     "text": [
      "1000000 [('46 St (M,R)', 'Prospect Av (2,5)', 'Far Rockaway-Mott Av (A)', 'Beach 105 St (A,S)', 'Tompkinsville (SIR)'), 299233.4048860624]\n",
      "2000000 [('46 St (M,R)', 'Prospect Av (2,5)', 'Beach 90 St (A,S)', 'Beach 105 St (A,S)', 'Tompkinsville (SIR)'), 285466.5132992024]\n"
     ]
    },
    {
     "ename": "KeyboardInterrupt",
     "evalue": "",
     "output_type": "error",
     "traceback": [
      "\u001b[1;31m---------------------------------------------------------------------------\u001b[0m",
      "\u001b[1;31mKeyboardInterrupt\u001b[0m                         Traceback (most recent call last)",
      "Cell \u001b[1;32mIn [26], line 7\u001b[0m\n\u001b[0;32m      5\u001b[0m \u001b[38;5;28;01mfor\u001b[39;00m i \u001b[38;5;129;01min\u001b[39;00m \u001b[38;5;28mrange\u001b[39m(n):\n\u001b[0;32m      6\u001b[0m     \u001b[38;5;28;01mfor\u001b[39;00m j \u001b[38;5;129;01min\u001b[39;00m \u001b[38;5;28mrange\u001b[39m(i\u001b[38;5;241m+\u001b[39m\u001b[38;5;241m1\u001b[39m, n):\n\u001b[1;32m----> 7\u001b[0m         val \u001b[38;5;241m+\u001b[39m\u001b[38;5;241m=\u001b[39m \u001b[43mfavorability\u001b[49m\u001b[43m(\u001b[49m\u001b[43mcomb\u001b[49m\u001b[43m[\u001b[49m\u001b[43mi\u001b[49m\u001b[43m]\u001b[49m\u001b[43m,\u001b[49m\u001b[43m \u001b[49m\u001b[43mcomb\u001b[49m\u001b[43m[\u001b[49m\u001b[43mj\u001b[49m\u001b[43m]\u001b[49m\u001b[43m)\u001b[49m\n\u001b[0;32m      8\u001b[0m \u001b[38;5;28;01mif\u001b[39;00m val \u001b[38;5;241m<\u001b[39m leading[\u001b[38;5;241m1\u001b[39m]:\n\u001b[0;32m      9\u001b[0m     leading \u001b[38;5;241m=\u001b[39m [comb, val]\n",
      "\u001b[1;31mKeyboardInterrupt\u001b[0m: "
     ]
    }
   ],
   "source": [
    "for comb in combs:\n",
    "    counter+=1\n",
    "    if counter%1_000_000 == 0: print(counter, leading)\n",
    "    val = 0\n",
    "    for i in range(n):\n",
    "        for j in range(i+1, n):\n",
    "            val += favorability(comb[i], comb[j])\n",
    "    if val < leading[1]:\n",
    "        leading = [comb, val]\n",
    "\n",
    "print(leading)"
   ]
  },
  {
   "cell_type": "code",
   "execution_count": 27,
   "metadata": {},
   "outputs": [
    {
     "name": "stdout",
     "output_type": "stream",
     "text": [
      "[{'46 St (M,R)'}, {'Prospect Av (2,5)'}, {'Beach 90 St (A,S)'}, {'Beach 105 St (A,S)'}, {'Tompkinsville (SIR)'}]\n"
     ]
    }
   ],
   "source": [
    "# Run the above code and save the final separated stations here\n",
    "\n",
    "#station_origins = ['Beach 105 St (A,S)', '85 St-Forest Pkwy (J)', 'Tremont Av (B,D)', '233 St (2,5)', 'Canal St (1)', 'Rector St (1)', 'Pelham Pkwy (5)', 'Lorimer St (L)/Metropolitan Av (G)', 'Aqueduct-N Conduit Av (A)', 'Broad Channel (A,S)', 'Beach 98 St (A,S)']\n",
    "\n",
    "#station_origins = ['Avenue J (Q)', '21 St (G)', 'Beach 98 St (A,S)', 'Broad Channel (A,S)', 'Beach 105 St (A,S)']\n",
    "\n",
    "station_origins = ['46 St (M,R)', 'Prospect Av (2,5)', 'Beach 90 St (A,S)', 'Beach 105 St (A,S)', 'Tompkinsville (SIR)']\n",
    "\n",
    "lines = [set([k]) for k in station_origins]\n",
    "print(lines)"
   ]
  },
  {
   "cell_type": "code",
   "execution_count": 28,
   "metadata": {},
   "outputs": [
    {
     "name": "stdout",
     "output_type": "stream",
     "text": [
      "[{'46 St (M,R)', 'Prospect Av (2,5)', '34 St-Penn Station (1,2,3)', 'Sterling St (2,5)', 'Clinton-Washington Avs (C)', '45 St (R)', '135 St (2,3)', 'Franklin Av (2,3,4,5)/Botanic Garden (S)', '125 St (A,C,B,D)', 'Nevins St (2,3,4,5)', 'Winthrop St (2,5)', 'Atlantic Av-Barclays Ctr (B,D,N,Q,R,2,3,4,5)', 'Court Sq (E,G,M,7)', '28 St (6)', '47-50 Sts-Rockefeller Ctr (B,D,F,M)', '36 Av (N,W)', '163 St-Amsterdam Av (C)', 'Newkirk Plaza (B,Q)', 'Avenue U (F)', 'Classon Av (G)', '71 St (D)', 'Church Av (B,Q)', 'Bay Pkwy (F)', 'Fort Hamilton Pkwy (F,G)', 'Beverley Rd (Q)', '34 St-Herald Sq (B,D,F,M,N,Q,R,W)', '175 St (A)', '33 St (6)', 'Broad St (J,Z)', 'Eastern Pkwy-Brooklyn Museum (2,3)', 'Bedford Av (L)', 'Crown Hts-Utica Av (3,4)', '59 St-Columbus Circle (A,B,C,D,1)', 'Avenue H (Q)', 'Bay Ridge-95 St (R)', 'Parkside Av (Q)', '68 St-Hunter College (6)', 'Cortelyou Rd (Q)', 'Lafayette Av (C)', 'Grand St (B,D)', '155 St (B,D)', 'Broadway-Lafayette St (B,D,F,M)/Bleecker St (6)', 'Grand Army Plaza (2,3)', 'Lexington Av-53 St (E,M)/51 St (6)', '138 St-Grand Concourse (4,5)', '49 St (N,R,W)', 'Myrtle-Willoughby Avs (G)', 'Times Sq-42 St (N,Q,R,W,S,1,2,3,7)/42 St (A,C,E)', '23 St (1)', '28 St (1)', 'Hunters Point Av (7)', 'Lorimer St (M,J)', 'Kings Hwy (B,Q)', 'Avenue J (Q)', 'Coney Island-Stillwell Av (D,F,N,Q)', '81 St-Museum of Natural History (C,B)', '34 St-Penn Station (A,C,E)', '50 St (C,E)', 'Graham Av (L)', 'Utica Av (A,C)', '72 St (1,2,3)', 'Broadway (G)', '96 St (Q)', 'Franklin St (1)', '96 St (C,B)', 'Flatbush Av-Brooklyn College (2,5)', '145 St (3)', '39 Av-Dutch Kills (N,W)', '1 Av (L)', 'Bergen St (F,G)', 'Vernon Blvd-Jackson Av (7)', 'Wall St (2,3)', '96 St (1,2,3)', '9 Av (D)', 'Queens Plaza (E,M,R)', '155 St (C)', '77 St (R)', 'Fort Hamilton Pkwy (N)', '18 Av (F)', 'Wall St (4,5)', 'Bay 50 St (D)', '15 St-Prospect Park (F,G)', 'Church Av (F,G)', 'Union St (R)', 'Neptune Av (F)'}, {'46 St (M,R)', 'Burnside Av (4)', 'Prospect Av (2,5)', 'Brook Av (6)', 'Fresh Pond Rd (M)', 'Inwood-207 St (A)', '75 St-Elderts Ln (J,Z)', '52 St (7)', 'Intervale Av (2,5)', '161 St-Yankee Stadium (B,D,4)', 'Rockaway Blvd (A)', 'Kosciuszko St (J)', 'Cleveland St (J)', '40 St-Lowery St (7)', 'Fordham Rd (4)', 'Sutter Av (L)', 'Chauncey St (J,Z)', 'Burke Av (2,5)', 'Far Rockaway-Mott Av (A)', '61 St-Woodside (7)', 'Middle Village-Metropolitan Av (M)', '80 St (A)', '174 St (2,5)', '167 St (B,D)', 'Central Av (M)', 'Northern Blvd (M,R)', 'Woodlawn (4)', 'Norwood Av (J,Z)', 'Euclid Av (A,C)', 'E 149 St (6)', 'Steinway St (M,R)', 'Liberty Av (C)', 'Shepherd Av (C)', 'Rockaway Av (3)', 'Bedford-Nostrand Avs (G)', '96 St (6)', 'Grand St (L)', '63 Dr-Rego Park (M,R)', 'Pelham Pkwy (5)', '2 Av (F)', 'Morgan Av (L)', 'Roosevelt Island (F)', 'Kingsbridge Rd (B,D)', 'Brooklyn Bridge-City Hall (4,5,6)/Chambers St (J,Z)', 'Simpson St (2,5)', 'Avenue I (F)', 'Nereid Av (2,5)', '110 St (6)', '233 St (2,5)', 'Avenue N (F)', '137 St-City College (1)', '23 St (R,W)', 'Gates Av (J,Z)', '116 St-Columbia University (1)', 'RI Tramway (Roosevelt)', '86 St (N)', 'Bryant Pk (B,D,F,M)/5 Av (7)', '79 St (D)', 'Wilson Av (L)', 'Halsey St (L)', 'Livonia Av (L)', 'Beverly Rd (2,5)', 'Tremont Av (B,D)', '65 St (M,R)', '5 Av/53 St (E,M)', 'Van Siclen Av (3)', 'Grand Av-Newtown (M,R)', '72 St (C,B)', '23 St (F,M)', '183 St (4)', 'Prospect Av (R)', 'Lorimer St (L)/Metropolitan Av (G)', 'Jefferson St (L)', '74-Broadway (7)/Jackson Hts-Roosevelt Av (E,F,M,R)', 'New Lots Av (3)', 'Nassau Av (G)', 'Saratoga Av (3)', 'Mosholu Pkwy (4)', 'Franklin Av (C,S)', 'Van Siclen Av (C)', 'Castle Hill Av (6)', 'Bedford Park Blvd (B,D)', 'Longwood Av (6)', '3 Av-138 St (6)', 'Morris Park (5)'}, {'Beach 90 St (A,S)', 'RI Tramway (Manhattan)', 'Whitlock Av (6)', '103 St (1)', 'Broad Channel (A,S)', '18 St (1)', '25 Av (D)', 'Mets-Willets Point (7)', '7 Av (E,B,D)', 'E 180 St (2,5)', 'Kings Hwy (N)', '67 Av (M,R)', 'Junius St (3)', 'Myrtle-Wyckoff Avs (L,M)', 'Tompkinsville (SIR)', 'Knickerbocker Av (M)', '33 St-Rawson St (7)', 'Woodhaven Blvd (J,Z)', 'DeKalb Av (L)', '167 St (4)', '57 St (F)', 'Parkchester (6)', 'Pelham Pkwy (2,5)', 'Nostrand Av (A,C)', 'Avenue M (Q)', 'Park Pl (S)', 'Prince St (R,W)', 'St Lawrence Av (6)', 'Beach 44 St (A)', 'Cypress Av (6)', 'Neck Rd (Q)', '59 St (N,R)', '145 St (A,C,B,D)', \"E 143 St-St Mary's St (6)\", '103 St (6)', 'Woodhaven Blvd (M,R)', 'Jamaica-179 St (F)', 'Jamaica-Van Wyck (E)', '176 St (4)', 'Christopher St-Sheridan Sq (1)', '182-183 Sts (B,D)', 'Flushing Av (M,J)', 'Bay Pkwy (N)', '215 St (1)', 'WTC Cortlandt (1)', 'Elder Av (6)', 'Sutphin Blvd-Archer Av-JFK Airport (E,J,Z)', 'Baychester Av (5)', '18 Av (N)', 'President St-Medgar Evers College (2,5)', 'Gun Hill Rd (2,5)', 'Gun Hill Rd (5)', 'Rockaway Av (C)', '79 St (1)', 'Elmhurst Av (M,R)', 'Beach 36 St (A)', '157 St (1)', '3 Av-149 St (2,5)', 'South Ferry (1)/Whitehall St (R,W)', '23 St (6)', 'Forest Hills-71 Av (E,F,M,R)', 'Marble Hill-225 St (1)', '207 St (1)', 'Jackson Av (2,5)', 'Kings Hwy (F)', 'Ditmas Av (F)', '4 Av (F,G)/9 St (R)', 'Hoyt-Schermerhorn Sts (A,C,G)', '181 St (1)', 'Canarsie-Rockaway Pkwy (L)', '125 St (1)', '7 Av (F,G)', 'Clinton-Washington Avs (G)', 'Fordham Rd (B,D)', 'Church Av (2,5)', '86 St (C,B)', 'Allerton Av (2,5)', 'Kingston Av (3)', '181 St (A)', 'Montrose Av (L)', 'Beach 25 St (A)', 'Carroll St (F,G)', '36 St (M,R)', 'Forest Av (M)', 'Bergen St (2,3)'}, {'77 St (6)', 'W 4 St-Wash Sq (A,C,E,B,D,F,M)', '174-175 Sts (B,D)', '135 St (C,B)', 'Van Siclen Av (J,Z)', 'Flushing-Main St (7)', 'New Lots Av (L)', 'East 105 St (L)', 'Bay Pkwy (D)', '191 St (1)', '145 St (1)', 'Morrison Av-Soundview (6)', '116 St (6)', 'Cypress Hills (J)', '23 St (C,E)', '72 St (Q)', 'Freeman St (2,5)', 'Cathedral Pkwy (110 St) (1)', 'Beach 90 St (A,S)', 'Bay Ridge Av (R)', 'Beach 98 St (A,S)', 'Fort Hamilton Pkwy (D)', 'Houston St (1)', '88 St (A)', 'Ozone Park-Lefferts Blvd (A)', 'West Farms Sq-E Tremont Av (2,5)', '169 St (F)', 'Junction Blvd (7)', 'Halsey St (J)', '69 St (7)', 'Pennsylvania Av (3)', '82 St-Jackson Hts (7)', 'Atlantic Av (L)', 'Howard Beach-JFK Airport (A)', 'Alabama Av (J)', '170 St (4)', 'Buhre Av (6)', '30 Av (N,W)', 'Hunts Point Av (6)', 'Middletown Rd (6)', 'Astoria-Ditmars Blvd (N,W)', 'Zerega Av (6)', '111 St (J)', '104 St (J,Z)', 'Astoria Blvd (N,W)', '111 St (7)', 'Kew Gardens-Union Tpke (E,F)', 'Aqueduct Racetrack (A)', 'Sutphin Blvd (F)', 'Mt Eden Av (4)', '219 St (2,5)', 'Eastchester-Dyre Av (5)', 'Aqueduct-N Conduit Av (A)', '46 St-Bliss St (7)', 'Jamaica Center-Parsons/Archer (E,J,Z)', '90 St-Elmhurst Av (7)', 'Grant Av (A)', 'Norwood-205 St (D)', '104 St (A)', '85 St-Forest Pkwy (J)', '111 St (A)', '170 St (B,D)', 'Seneca Av (M)', 'Pelham Bay Park (6)', '225 St (2,5)', 'Beach 60 St (A)', 'Ralph Av (C)', 'Beach 67 St (A)', 'Kingsbridge Rd (4)', 'Bushwick Av-Aberdeen St (L)', 'Beach 105 St (A,S)', '103 St-Corona Plaza (7)', 'Sutter Av-Rutland Rd (3)', 'Bronx Park East (2,5)', 'Crescent St (J,Z)', 'Briarwood (E,F)', 'Westchester Sq-E Tremont Av (6)', '238 St (1)', 'Rockaway Park-Beach 116 St (A,S)', 'Van Cortlandt Park-242 St (1)', 'Bedford Park Blvd-Lehman College (4)', '231 St (1)', '75 Av (E,F)', 'Wakefield-241 St (2)', 'Parsons Blvd (F)'}, {'14 St-Union Sq (L,N,Q,R,W,4,5,6)', '66 St-Lincoln Center (1)', '50 St (1)', '55 St (D)', '86 St (4,5,6)', 'Broadway (N,W)', 'Chambers St (A,C)/WTC (E)/Park Pl (2,3)/Cortlandt (R,W)', 'Court St (R)/Borough Hall (2,3,4,5)', '3 Av (L)', '57 St-7 Av (N,Q,R,W)', 'Avenue U (Q)', 'Canal St (A,C,E)', 'Dyckman St (1)', 'New Utrecht Av (N)/62 St (D)', 'Avenue X (F)', '21 St-Queensbridge (F)', '21 St (G)', '86 St (Q)', 'Harlem-148 St (3)', 'Lexington Av (N,R,W)/59 St (4,5,6)', '20 Av (N)', 'Flushing Av (G)', 'Fulton St (A,C,J,Z,2,3,4,5)', '50 St (D)', 'Tompkinsville (SIR)', 'Myrtle Av (M,J,Z)', '103 St (C,B)', '18 Av (D)', '53 St (R)', '116 St (2,3)', 'Prospect Park (B,Q,S)', 'Hewes St (M,J)', 'Spring St (6)', 'Rector St (R,W)', 'Canal St (J,N,Q,R,W,Z,6)', '8 St-NYU (R,W)', 'City Hall (R,W)', 'Canal St (1)', 'Nostrand Av (3)', '28 St (R,W)', '168 St (A,C,1)', 'Grand Central-42 St (S,4,5,6,7)', 'Bowling Green (4,5)', '125 St (2,3)', 'Delancey St (F)/Essex St (J,M,Z)', 'Central Park North (110 St) (2,3)', '25 St (R)', 'Newkirk Av-Little Haiti (2,5)', 'Lexington Av/63 St (F,Q)', '14 St (F,M,1,2,3)/6 Av (L)', '125 St (4,5,6)', 'High St (A,C)', 'Sheepshead Bay (B,Q)', 'St George (SIR)', 'Marcy Av (M,J,Z)', '8 Av (N)', 'East Broadway (F)', '34 St-Hudson Yards (7)', 'Jay St-MetroTech (A,C,F,R)', 'Smith-9 Sts (F,G)', '149 St-Grand Concourse (2,4,5)', 'York St (F)', 'Rector St (1)', 'Clark St (2,3)', '5 Av/59 St (N,R,W)', 'Cathedral Pkwy (110 St) (C,B)', 'DeKalb Av (B,Q,R)', '86 St (1)', 'Queensboro Plaza (7,N,W)', 'Chambers St (1,2,3)', '86 St (R)', '14 St (A,C,E)/8 Av (L)', 'Kingston-Throop Avs (C)', 'Avenue U (N)', 'Fulton St (G)', '20 Av (D)', 'Dyckman St (A)', 'Bowery (J,Z)', '36 St (D,N,R)', '121 St (J,Z)', 'Astor Pl (6)', 'Ocean Pkwy (Q)', 'Greenpoint Av (G)', '116 St (C,B)', '190 St (A)', 'Hoyt St (2,3)', 'Broadway Junction (A,C,J,L,Z)', '7 Av (B,Q)', 'Brighton Beach (B,Q)', 'W 8 St-NY Aquarium (F,Q)', 'Spring St (C,E)', 'Avenue P (F)'}]\n"
     ]
    }
   ],
   "source": [
    "# included = set()\n",
    "\n",
    "# while (stations - included) != set():\n",
    "#     print(len(included))\n",
    "#     for line in lines:\n",
    "#         leading = leading = (\"fakestation\", -1)\n",
    "#         for station in stations:\n",
    "#             if station not in line:\n",
    "#                 val = 0\n",
    "#                 for elem in line:\n",
    "#                     val += favorability(station, elem)\n",
    "#                 if val > leading[1]: leading = [station, val]\n",
    "#         line.add(leading[0])\n",
    "#         included.add(leading[0])\n",
    "\n",
    "for station in stations:\n",
    "    leading = (-1, -1)\n",
    "    for line_ind in range(len(lines)):\n",
    "        line = lines[line_ind]\n",
    "        if len(line) < 85:\n",
    "            utility = 0\n",
    "            for elem in line:\n",
    "                utility += favorability(station, elem)\n",
    "            utility /= len(line)\n",
    "            if utility > leading[1]: leading = (line_ind, utility)\n",
    "    lines[leading[0]].add(station)\n",
    "\n",
    "print(lines)\n",
    "\n",
    "\n",
    "\n"
   ]
  },
  {
   "cell_type": "code",
   "execution_count": 29,
   "metadata": {},
   "outputs": [
    {
     "name": "stdout",
     "output_type": "stream",
     "text": [
      "testing 85\n",
      "testing 85\n",
      "testing 85\n",
      "testing 85\n",
      "testing 92\n"
     ]
    }
   ],
   "source": [
    "for line in lines:\n",
    "    print(f\"testing {len(line)}\")"
   ]
  },
  {
   "cell_type": "code",
   "execution_count": 30,
   "metadata": {},
   "outputs": [],
   "source": [
    "lines = [list(line) for line in lines]\n",
    "data[\"other_data\"][\"new_lines\"] = lines"
   ]
  },
  {
   "cell_type": "code",
   "execution_count": 31,
   "metadata": {},
   "outputs": [],
   "source": [
    "out_file = open(\"data/data.json\", \"w\") \n",
    "  \n",
    "json.dump(data, out_file) \n",
    "  \n",
    "out_file.close()"
   ]
  }
 ],
 "metadata": {
  "kernelspec": {
   "display_name": "Python 3",
   "language": "python",
   "name": "python3"
  },
  "language_info": {
   "codemirror_mode": {
    "name": "ipython",
    "version": 3
   },
   "file_extension": ".py",
   "mimetype": "text/x-python",
   "name": "python",
   "nbconvert_exporter": "python",
   "pygments_lexer": "ipython3",
   "version": "3.10.0"
  },
  "orig_nbformat": 4
 },
 "nbformat": 4,
 "nbformat_minor": 2
}
