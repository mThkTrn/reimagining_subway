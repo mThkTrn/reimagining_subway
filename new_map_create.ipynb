{
 "cells": [
  {
   "cell_type": "code",
   "execution_count": 41,
   "metadata": {},
   "outputs": [],
   "source": [
    "import json\n",
    "import itertools"
   ]
  },
  {
   "cell_type": "code",
   "execution_count": 42,
   "metadata": {},
   "outputs": [],
   "source": [
    "data = json.load(open(\"data/data.json\"))"
   ]
  },
  {
   "cell_type": "code",
   "execution_count": 43,
   "metadata": {},
   "outputs": [],
   "source": [
    "def data_grab(station, time):\n",
    "    try:\n",
    "        return data[\"stations\"][station][\"times\"][time][\"all_fare_classes\"][\"ridership\"]\n",
    "    except KeyError:\n",
    "        return 0\n",
    "\n",
    "favorabilities = {}\n",
    "\n",
    "def favorability(s1, s2):\n",
    "    if (s1, s2) in favorabilities:\n",
    "        return favorabilities[(s1, s2)]\n",
    "    else:\n",
    "        # print(f\"falling favorability(s1: {s1}, s2: {s2})\")\n",
    "        out = 0\n",
    "        for time in range(24):\n",
    "            time = f\"{time:02}:00:00.000\"\n",
    "            out += min(data_grab(s1, time), data_grab(s2, time))\n",
    "        favorabilities[(s1, s2)] = out\n",
    "        return out"
   ]
  },
  {
   "cell_type": "code",
   "execution_count": 44,
   "metadata": {},
   "outputs": [],
   "source": [
    "stations = set(data[\"stations\"].keys())\n",
    "\n",
    "n = 5 #number of lines"
   ]
  },
  {
   "cell_type": "code",
   "execution_count": 45,
   "metadata": {},
   "outputs": [
    {
     "name": "stdout",
     "output_type": "stream",
     "text": [
      "<itertools.combinations object at 0x00000155E3D9E020>\n"
     ]
    }
   ],
   "source": [
    "combs = itertools.combinations(stations, n)\n",
    "\n",
    "\n",
    "leading = [(\"foo\", \"bar\", \"egg\", \"spam\", \"hello\"), 1_000_000_000_000_000]\n",
    "counter = 0\n",
    "\n",
    "print((combs))"
   ]
  },
  {
   "cell_type": "code",
   "execution_count": 52,
   "metadata": {},
   "outputs": [
    {
     "ename": "KeyboardInterrupt",
     "evalue": "",
     "output_type": "error",
     "traceback": [
      "\u001b[1;31m---------------------------------------------------------------------------\u001b[0m",
      "\u001b[1;31mKeyboardInterrupt\u001b[0m                         Traceback (most recent call last)",
      "Cell \u001b[1;32mIn [52], line 7\u001b[0m\n\u001b[0;32m      5\u001b[0m \u001b[38;5;28;01mfor\u001b[39;00m i \u001b[38;5;129;01min\u001b[39;00m \u001b[38;5;28mrange\u001b[39m(n):\n\u001b[0;32m      6\u001b[0m     \u001b[38;5;28;01mfor\u001b[39;00m j \u001b[38;5;129;01min\u001b[39;00m \u001b[38;5;28mrange\u001b[39m(i\u001b[38;5;241m+\u001b[39m\u001b[38;5;241m1\u001b[39m, n):\n\u001b[1;32m----> 7\u001b[0m         val \u001b[38;5;241m+\u001b[39m\u001b[38;5;241m=\u001b[39m favorability(comb[i], comb[j])\n\u001b[0;32m      8\u001b[0m \u001b[38;5;28;01mif\u001b[39;00m val \u001b[38;5;241m<\u001b[39m leading[\u001b[38;5;241m1\u001b[39m]:\n\u001b[0;32m      9\u001b[0m     leading \u001b[38;5;241m=\u001b[39m [comb, val]\n",
      "\u001b[1;31mKeyboardInterrupt\u001b[0m: "
     ]
    }
   ],
   "source": [
    "for comb in combs:\n",
    "    counter+=1\n",
    "    if counter%1_000_000 == 0: print(counter, leading)\n",
    "    val = 0\n",
    "    for i in range(n):\n",
    "        for j in range(i+1, n):\n",
    "            val += favorability(comb[i], comb[j])\n",
    "    if val < leading[1]:\n",
    "        leading = [comb, val]\n",
    "\n",
    "print(leading)"
   ]
  },
  {
   "cell_type": "code",
   "execution_count": 61,
   "metadata": {},
   "outputs": [
    {
     "name": "stdout",
     "output_type": "stream",
     "text": [
      "[{'Avenue J (Q)'}, {'21 St (G)'}, {'Beach 98 St (A,S)'}, {'Broad Channel (A,S)'}, {'Beach 105 St (A,S)'}]\n"
     ]
    }
   ],
   "source": [
    "# Run the above code and save the final separated stations here\n",
    "\n",
    "#station_origins = ['Beach 105 St (A,S)', '85 St-Forest Pkwy (J)', 'Tremont Av (B,D)', '233 St (2,5)', 'Canal St (1)', 'Rector St (1)', 'Pelham Pkwy (5)', 'Lorimer St (L)/Metropolitan Av (G)', 'Aqueduct-N Conduit Av (A)', 'Broad Channel (A,S)', 'Beach 98 St (A,S)']\n",
    "\n",
    "station_origins = ['Avenue J (Q)', '21 St (G)', 'Beach 98 St (A,S)', 'Broad Channel (A,S)', 'Beach 105 St (A,S)']\n",
    "\n",
    "lines = [set([k]) for k in station_origins]\n",
    "print(lines)"
   ]
  },
  {
   "cell_type": "code",
   "execution_count": 62,
   "metadata": {},
   "outputs": [
    {
     "name": "stdout",
     "output_type": "stream",
     "text": [
      "[{'Avenue J (Q)', 'Chambers St (A,C)/WTC (E)/Park Pl (2,3)/Cortlandt (R,W)', 'West Farms Sq-E Tremont Av (2,5)', 'Middle Village-Metropolitan Av (M)', '59 St-Columbus Circle (A,B,C,D,1)', '7 Av (B,Q)', 'Clinton-Washington Avs (C)', '86 St (4,5,6)', 'Delancey St (F)/Essex St (J,M,Z)', 'Beach 98 St (A,S)', 'Fort Hamilton Pkwy (D)', 'Bay 50 St (D)', '104 St (A)', '79 St (D)', '23 St (R,W)', '215 St (1)', 'Broadway (N,W)', 'Bryant Pk (B,D,F,M)/5 Av (7)', 'Beverley Rd (Q)', 'Park Pl (S)', '8 St-NYU (R,W)', 'Newkirk Av-Little Haiti (2,5)', 'Intervale Av (2,5)', '61 St-Woodside (7)', '67 Av (M,R)', '183 St (4)', '86 St (C,B)', '33 St (6)', 'Fulton St (A,C,J,Z,2,3,4,5)', 'Avenue I (F)', '125 St (2,3)', '34 St-Hudson Yards (7)', '190 St (A)', 'Houston St (1)', 'Wall St (4,5)', 'Greenpoint Av (G)', '219 St (2,5)', 'Astoria Blvd (N,W)', 'Parsons Blvd (F)', 'Flushing Av (M,J)', 'Central Av (M)', '46 St (M,R)', 'Prospect Park (B,Q,S)', '96 St (C,B)', '72 St (C,B)', 'Beach 36 St (A)', 'Van Siclen Av (C)', 'Avenue H (Q)', '163 St-Amsterdam Av (C)', '34 St-Penn Station (A,C,E)', 'Livonia Av (L)', '155 St (C)', 'Mosholu Pkwy (4)', 'Fort Hamilton Pkwy (F,G)', 'Norwood-205 St (D)', 'Bay Ridge-95 St (R)', '75 St-Elderts Ln (J,Z)', 'Ozone Park-Lefferts Blvd (A)', '174 St (2,5)', 'Lorimer St (M,J)', 'Church Av (B,Q)', '23 St (1)', 'Bay Ridge Av (R)', 'Saratoga Av (3)', 'Alabama Av (J)', 'Zerega Av (6)', '88 St (A)', 'New Lots Av (3)', '77 St (6)', '69 St (7)', 'Rockaway Av (C)', 'Harlem-148 St (3)', 'Sutphin Blvd-Archer Av-JFK Airport (E,J,Z)', 'Forest Hills-71 Av (E,F,M,R)', '86 St (N)', '90 St-Elmhurst Av (7)', 'Brighton Beach (B,Q)', 'Brooklyn Bridge-City Hall (4,5,6)/Chambers St (J,Z)', '238 St (1)', '96 St (Q)', 'Woodlawn (4)', '33 St-Rawson St (7)', 'Grand Army Plaza (2,3)', 'Ralph Av (C)', 'Atlantic Av-Barclays Ctr (B,D,N,Q,R,2,3,4,5)'}, {'Eastern Pkwy-Brooklyn Museum (2,3)', '21 St (G)', 'Newkirk Plaza (B,Q)', 'Neptune Av (F)', 'Vernon Blvd-Jackson Av (7)', '15 St-Prospect Park (F,G)', '181 St (A)', 'Central Park North (110 St) (2,3)', '18 Av (D)', 'Halsey St (L)', '116 St (C,B)', '9 Av (D)', '170 St (4)', 'York St (F)', '71 St (D)', '23 St (6)', 'Graham Av (L)', '103 St-Corona Plaza (7)', '77 St (R)', 'Carroll St (F,G)', '65 St (M,R)', 'Winthrop St (2,5)', 'Lexington Av-53 St (E,M)/51 St (6)', 'Castle Hill Av (6)', '28 St (6)', 'Woodhaven Blvd (M,R)', 'Kingston Av (3)', '4 Av (F,G)/9 St (R)', 'Forest Av (M)', 'Hoyt St (2,3)', '23 St (C,E)', '50 St (D)', 'High St (A,C)', '59 St (N,R)', 'DeKalb Av (B,Q,R)', '8 Av (N)', 'Classon Av (G)', '36 St (D,N,R)', '3 Av-149 St (2,5)', 'Canal St (1)', '125 St (4,5,6)', '14 St (A,C,E)/8 Av (L)', 'Nostrand Av (3)', 'Crescent St (J,Z)', 'Canal St (A,C,E)', '14 St (F,M,1,2,3)/6 Av (L)', '149 St-Grand Concourse (2,4,5)', 'Freeman St (2,5)', 'Hunts Point Av (6)', 'Beach 67 St (A)', 'Rockaway Park-Beach 116 St (A,S)', 'Avenue M (Q)', 'Elder Av (6)', 'Kings Hwy (B,Q)', 'Elmhurst Av (M,R)', 'Franklin St (1)', 'Cleveland St (J)', '231 St (1)', '168 St (A,C,1)', 'Tompkinsville (SIR)', 'Bedford Park Blvd (B,D)', 'Kosciuszko St (J)', 'Bowery (J,Z)', 'Grand Av-Newtown (M,R)', 'Beverly Rd (2,5)', 'E 149 St (6)', '28 St (1)', 'Lorimer St (L)/Metropolitan Av (G)', '111 St (J)', '36 St (M,R)', '167 St (B,D)', 'Myrtle-Wyckoff Avs (L,M)', '103 St (1)', 'Ocean Pkwy (Q)', 'Rockaway Blvd (A)', 'Morrison Av-Soundview (6)', 'Fordham Rd (B,D)', 'Pelham Pkwy (2,5)', '52 St (7)', 'Avenue N (F)', 'Aqueduct Racetrack (A)', '30 Av (N,W)', '34 St-Herald Sq (B,D,F,M,N,Q,R,W)', 'Ditmas Av (F)', 'Rockaway Av (3)'}, {'Prince St (R,W)', 'Prospect Av (2,5)', 'Broadway-Lafayette St (B,D,F,M)/Bleecker St (6)', 'Kingston-Throop Avs (C)', 'Spring St (C,E)', 'Astor Pl (6)', 'Smith-9 Sts (F,G)', 'Myrtle Av (M,J,Z)', '103 St (C,B)', 'Kings Hwy (F)', '233 St (2,5)', 'Marble Hill-225 St (1)', 'Junius St (3)', 'E 180 St (2,5)', 'Seneca Av (M)', 'Beach 98 St (A,S)', '20 Av (D)', 'Nereid Av (2,5)', 'Atlantic Av (L)', 'President St-Medgar Evers College (2,5)', 'Liberty Av (C)', 'Flushing Av (G)', 'Burke Av (2,5)', 'Gun Hill Rd (2,5)', 'Sheepshead Bay (B,Q)', 'Court Sq (E,G,M,7)', 'Parkchester (6)', 'Avenue P (F)', 'East 105 St (L)', '135 St (C,B)', 'Van Siclen Av (J,Z)', 'Jay St-MetroTech (A,C,F,R)', '138 St-Grand Concourse (4,5)', 'Bronx Park East (2,5)', 'Far Rockaway-Mott Av (A)', '176 St (4)', 'Lafayette Av (C)', 'Avenue U (Q)', 'Union St (R)', 'Hoyt-Schermerhorn Sts (A,C,G)', 'Kingsbridge Rd (4)', 'Allerton Av (2,5)', 'Wall St (2,3)', 'Hunters Point Av (7)', 'Knickerbocker Av (M)', 'Franklin Av (C,S)', 'Prospect Av (R)', 'Flushing-Main St (7)', 'St George (SIR)', 'Beach 25 St (A)', '1 Av (L)', 'New Lots Av (L)', '169 St (F)', '20 Av (N)', '80 St (A)', 'Nassau Av (G)', '25 St (R)', '18 Av (N)', '18 Av (F)', 'Cathedral Pkwy (110 St) (1)', 'Whitlock Av (6)', 'Christopher St-Sheridan Sq (1)', '66 St-Lincoln Center (1)', 'Eastchester-Dyre Av (5)', '125 St (1)', 'WTC Cortlandt (1)', 'Burnside Av (4)', 'Woodhaven Blvd (J,Z)', 'Euclid Av (A,C)', 'Beach 90 St (A,S)', \"E 143 St-St Mary's St (6)\", '111 St (7)', '50 St (1)', 'Broad St (J,Z)', 'Bergen St (2,3)', 'Buhre Av (6)', 'Broadway (G)', 'Lexington Av/63 St (F,Q)', '191 St (1)', 'New Utrecht Av (N)/62 St (D)', '50 St (C,E)', 'Pelham Pkwy (5)', 'Rector St (R,W)', '111 St (A)', 'Coney Island-Stillwell Av (D,F,N,Q)'}, {'Canarsie-Rockaway Pkwy (L)', '3 Av-138 St (6)', '7 Av (E,B,D)', 'Fort Hamilton Pkwy (N)', '135 St (2,3)', 'Montrose Av (L)', 'Cortelyou Rd (Q)', '161 St-Yankee Stadium (B,D,4)', '167 St (4)', '86 St (Q)', 'Chauncey St (J,Z)', '182-183 Sts (B,D)', 'Inwood-207 St (A)', 'Clark St (2,3)', 'Chambers St (1,2,3)', 'Westchester Sq-E Tremont Av (6)', '75 Av (E,F)', 'Mets-Willets Point (7)', 'Wilson Av (L)', 'RI Tramway (Roosevelt)', '170 St (B,D)', 'Utica Av (A,C)', 'Roosevelt Island (F)', 'DeKalb Av (L)', '110 St (6)', '28 St (R,W)', 'Crown Hts-Utica Av (3,4)', '72 St (1,2,3)', 'Cypress Hills (J)', 'Court St (R)/Borough Hall (2,3,4,5)', 'Simpson St (2,5)', '46 St-Bliss St (7)', 'Kingsbridge Rd (B,D)', 'Pelham Bay Park (6)', '2 Av (F)', 'Northern Blvd (M,R)', '14 St-Union Sq (L,N,Q,R,W,4,5,6)', '125 St (A,C,B,D)', 'Avenue U (N)', '5 Av/59 St (N,R,W)', 'Nostrand Av (A,C)', '18 St (1)', '39 Av-Dutch Kills (N,W)', '137 St-City College (1)', 'Times Sq-42 St (N,Q,R,W,S,1,2,3,7)/42 St (A,C,E)', '7 Av (F,G)', 'Morgan Av (L)', 'Wakefield-241 St (2)', 'Jamaica-179 St (F)', 'Rector St (1)', '155 St (B,D)', 'Grand St (B,D)', 'City Hall (R,W)', 'Bergen St (F,G)', 'Broad Channel (A,S)', 'Tremont Av (B,D)', '79 St (1)', '81 St-Museum of Natural History (C,B)', '175 St (A)', 'Marcy Av (M,J,Z)', 'South Ferry (1)/Whitehall St (R,W)', '96 St (6)', '5 Av/53 St (E,M)', 'Bowling Green (4,5)', 'Sutter Av-Rutland Rd (3)', 'Halsey St (J)', '34 St-Penn Station (1,2,3)', '121 St (J,Z)', 'Van Cortlandt Park-242 St (1)', 'Bedford Av (L)', 'Cypress Av (6)', 'Grand Central-42 St (S,4,5,6,7)', '45 St (R)', '116 St-Columbia University (1)', 'Bushwick Av-Aberdeen St (L)', 'Parkside Av (Q)', 'Myrtle-Willoughby Avs (G)', 'Beach 44 St (A)', '86 St (1)', 'Dyckman St (A)', 'RI Tramway (Manhattan)', '55 St (D)', 'Jackson Av (2,5)', 'Franklin Av (2,3,4,5)/Botanic Garden (S)', 'W 8 St-NY Aquarium (F,Q)'}, {'Spring St (6)', 'Church Av (2,5)', 'Astoria-Ditmars Blvd (N,W)', '57 St-7 Av (N,Q,R,W)', '145 St (1)', '40 St-Lowery St (7)', 'Nevins St (2,3,4,5)', '116 St (2,3)', '145 St (A,C,B,D)', '82 St-Jackson Hts (7)', '47-50 Sts-Rockefeller Ctr (B,D,F,M)', '49 St (N,R,W)', 'Sterling St (2,5)', 'Fulton St (G)', '116 St (6)', 'Grand St (L)', 'Avenue U (F)', 'Gates Av (J,Z)', 'Cathedral Pkwy (110 St) (C,B)', '103 St (6)', 'Aqueduct-N Conduit Av (A)', 'Howard Beach-JFK Airport (A)', 'Broadway Junction (A,C,J,L,Z)', 'Longwood Av (6)', 'Sutphin Blvd (F)', 'Middletown Rd (6)', 'Fordham Rd (4)', 'Briarwood (E,F)', '36 Av (N,W)', 'Avenue X (F)', 'Clinton-Washington Avs (G)', '68 St-Hunter College (6)', 'Queensboro Plaza (7,N,W)', '53 St (R)', 'Steinway St (M,R)', 'Lexington Av (N,R,W)/59 St (4,5,6)', '207 St (1)', '63 Dr-Rego Park (M,R)', 'Gun Hill Rd (5)', 'Church Av (F,G)', 'Kew Gardens-Union Tpke (E,F)', 'Jamaica-Van Wyck (E)', 'Sutter Av (L)', 'Neck Rd (Q)', '57 St (F)', '157 St (1)', 'Morris Park (5)', '72 St (Q)', '181 St (1)', '104 St (J,Z)', 'Bay Pkwy (N)', 'East Broadway (F)', 'Beach 60 St (A)', 'Jamaica Center-Parsons/Archer (E,J,Z)', 'Canal St (J,N,Q,R,W,Z,6)', 'Kings Hwy (N)', '86 St (R)', '3 Av (L)', 'Bay Pkwy (D)', 'Brook Av (6)', 'Jefferson St (L)', 'Dyckman St (1)', 'Grant Av (A)', 'Flatbush Av-Brooklyn College (2,5)', 'Mt Eden Av (4)', 'W 4 St-Wash Sq (A,C,E,B,D,F,M)', '74-Broadway (7)/Jackson Hts-Roosevelt Av (E,F,M,R)', 'Baychester Av (5)', '85 St-Forest Pkwy (J)', 'Shepherd Av (C)', '25 Av (D)', '174-175 Sts (B,D)', 'Beach 105 St (A,S)', '21 St-Queensbridge (F)', '96 St (1,2,3)', 'Bay Pkwy (F)', 'Pennsylvania Av (3)', 'Queens Plaza (E,M,R)', 'Bedford Park Blvd-Lehman College (4)', 'Norwood Av (J,Z)', 'Bedford-Nostrand Avs (G)', 'Fresh Pond Rd (M)', '225 St (2,5)', 'Hewes St (M,J)', '145 St (3)', 'St Lawrence Av (6)', 'Van Siclen Av (3)', 'Junction Blvd (7)', '23 St (F,M)'}]\n"
     ]
    }
   ],
   "source": [
    "# included = set()\n",
    "\n",
    "# while (stations - included) != set():\n",
    "#     print(len(included))\n",
    "#     for line in lines:\n",
    "#         leading = leading = (\"fakestation\", -1)\n",
    "#         for station in stations:\n",
    "#             if station not in line:\n",
    "#                 val = 0\n",
    "#                 for elem in line:\n",
    "#                     val += favorability(station, elem)\n",
    "#                 if val > leading[1]: leading = [station, val]\n",
    "#         line.add(leading[0])\n",
    "#         included.add(leading[0])\n",
    "\n",
    "for station in stations:\n",
    "    leading = (-1, -1)\n",
    "    for line_ind in range(len(lines)):\n",
    "        line = lines[line_ind]\n",
    "        if len(line) < 85:\n",
    "            utility = 0\n",
    "            for elem in line:\n",
    "                utility += favorability(station, elem)\n",
    "            utility /= len(line)\n",
    "            if utility > leading[1]: leading = (line_ind, utility)\n",
    "    lines[leading[0]].add(station)\n",
    "\n",
    "print(lines)\n",
    "\n",
    "\n",
    "\n"
   ]
  },
  {
   "cell_type": "code",
   "execution_count": 63,
   "metadata": {},
   "outputs": [
    {
     "name": "stdout",
     "output_type": "stream",
     "text": [
      "testing 85\n",
      "testing 85\n",
      "testing 85\n",
      "testing 85\n",
      "testing 89\n"
     ]
    }
   ],
   "source": [
    "for line in lines:\n",
    "    print(f\"testing {len(line)}\")"
   ]
  },
  {
   "cell_type": "code",
   "execution_count": 64,
   "metadata": {},
   "outputs": [],
   "source": [
    "lines = [list(line) for line in lines]\n",
    "data[\"other_data\"][\"new_lines\"] = lines"
   ]
  },
  {
   "cell_type": "code",
   "execution_count": 65,
   "metadata": {},
   "outputs": [],
   "source": [
    "out_file = open(\"data/data.json\", \"w\") \n",
    "  \n",
    "json.dump(data, out_file) \n",
    "  \n",
    "out_file.close()"
   ]
  }
 ],
 "metadata": {
  "kernelspec": {
   "display_name": "Python 3",
   "language": "python",
   "name": "python3"
  },
  "language_info": {
   "codemirror_mode": {
    "name": "ipython",
    "version": 3
   },
   "file_extension": ".py",
   "mimetype": "text/x-python",
   "name": "python",
   "nbconvert_exporter": "python",
   "pygments_lexer": "ipython3",
   "version": "3.10.0"
  },
  "orig_nbformat": 4
 },
 "nbformat": 4,
 "nbformat_minor": 2
}
