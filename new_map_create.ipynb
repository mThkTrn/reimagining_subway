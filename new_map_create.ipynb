{
 "cells": [
  {
   "cell_type": "code",
   "execution_count": 24,
   "metadata": {},
   "outputs": [],
   "source": [
    "import json\n",
    "import itertools"
   ]
  },
  {
   "cell_type": "code",
   "execution_count": 25,
   "metadata": {},
   "outputs": [],
   "source": [
    "data = json.load(open(\"data/data.json\"))"
   ]
  },
  {
   "cell_type": "code",
   "execution_count": 26,
   "metadata": {},
   "outputs": [],
   "source": [
    "def data_grab(station, time):\n",
    "    try:\n",
    "        return data[\"stations\"][station][\"times\"][time][\"all_fare_classes\"][\"ridership\"]\n",
    "    except KeyError:\n",
    "        return 0\n",
    "\n",
    "favorabilities = {}\n",
    "\n",
    "def favorability(s1, s2):\n",
    "    if (s1, s2) in favorabilities:\n",
    "        return favorabilities[(s1, s2)]\n",
    "    else:\n",
    "        # print(f\"falling favorability(s1: {s1}, s2: {s2})\")\n",
    "        out = 0\n",
    "        for time in range(24):\n",
    "            time = f\"{time:02}:00:00.000\"\n",
    "            out += min(data_grab(s1, time), data_grab(s2, time))\n",
    "        favorabilities[(s1, s2)] = out\n",
    "        return out"
   ]
  },
  {
   "cell_type": "code",
   "execution_count": 27,
   "metadata": {},
   "outputs": [],
   "source": [
    "stations = set(data[\"stations\"].keys())\n",
    "\n",
    "n = 11 #number of lines"
   ]
  },
  {
   "cell_type": "code",
   "execution_count": 28,
   "metadata": {},
   "outputs": [
    {
     "name": "stdout",
     "output_type": "stream",
     "text": [
      "<itertools.combinations object at 0x112b9b600>\n"
     ]
    }
   ],
   "source": [
    "combs = itertools.combinations(stations, n)\n",
    "\n",
    "\n",
    "leading = [(\"foo\", \"bar\", \"egg\", \"spam\", \"hello\"), 1_000_000_000_000_000]\n",
    "counter = 0\n",
    "\n",
    "print((combs))"
   ]
  },
  {
   "cell_type": "code",
   "execution_count": 29,
   "metadata": {},
   "outputs": [
    {
     "name": "stdout",
     "output_type": "stream",
     "text": [
      "1000000 [('Beach 105 St (A,S)', '85 St-Forest Pkwy (J)', 'Tremont Av (B,D)', '233 St (2,5)', 'Canal St (1)', 'Rector St (1)', 'Pelham Pkwy (5)', '145 St (A,C,B,D)', '75 St-Elderts Ln (J,Z)', 'Broad Channel (A,S)', 'Beach 98 St (A,S)'), 75877.0]\n",
      "2000000 [('Beach 105 St (A,S)', '85 St-Forest Pkwy (J)', 'Tremont Av (B,D)', '233 St (2,5)', 'Canal St (1)', 'Rector St (1)', 'Pelham Pkwy (5)', '145 St (A,C,B,D)', '75 St-Elderts Ln (J,Z)', 'Broad Channel (A,S)', 'Beach 98 St (A,S)'), 75877.0]\n",
      "3000000 [('Beach 105 St (A,S)', '85 St-Forest Pkwy (J)', 'Tremont Av (B,D)', '233 St (2,5)', 'Canal St (1)', 'Rector St (1)', 'Pelham Pkwy (5)', '145 St (A,C,B,D)', '75 St-Elderts Ln (J,Z)', 'Broad Channel (A,S)', 'Beach 98 St (A,S)'), 75877.0]\n",
      "4000000 [('Beach 105 St (A,S)', '85 St-Forest Pkwy (J)', 'Tremont Av (B,D)', '233 St (2,5)', 'Canal St (1)', 'Rector St (1)', 'Pelham Pkwy (5)', '145 St (A,C,B,D)', 'Aqueduct Racetrack (A)', 'Broad Channel (A,S)', 'Beach 98 St (A,S)'), 68500.0]\n",
      "5000000 [('Beach 105 St (A,S)', '85 St-Forest Pkwy (J)', 'Tremont Av (B,D)', '233 St (2,5)', 'Canal St (1)', 'Rector St (1)', 'Pelham Pkwy (5)', '145 St (A,C,B,D)', 'Aqueduct Racetrack (A)', 'Broad Channel (A,S)', 'Beach 98 St (A,S)'), 68500.0]\n",
      "6000000 [('Beach 105 St (A,S)', '85 St-Forest Pkwy (J)', 'Tremont Av (B,D)', '233 St (2,5)', 'Canal St (1)', 'Rector St (1)', 'Pelham Pkwy (5)', '145 St (A,C,B,D)', 'Aqueduct-N Conduit Av (A)', 'Broad Channel (A,S)', 'Beach 98 St (A,S)'), 68345.0]\n",
      "7000000 [('Beach 105 St (A,S)', '85 St-Forest Pkwy (J)', 'Tremont Av (B,D)', '233 St (2,5)', 'Canal St (1)', 'Rector St (1)', 'Pelham Pkwy (5)', '145 St (A,C,B,D)', 'Aqueduct-N Conduit Av (A)', 'Broad Channel (A,S)', 'Beach 98 St (A,S)'), 68345.0]\n",
      "8000000 [('Beach 105 St (A,S)', '85 St-Forest Pkwy (J)', 'Tremont Av (B,D)', '233 St (2,5)', 'Canal St (1)', 'Rector St (1)', 'Pelham Pkwy (5)', '145 St (A,C,B,D)', 'Aqueduct-N Conduit Av (A)', 'Broad Channel (A,S)', 'Beach 98 St (A,S)'), 68345.0]\n",
      "9000000 [('Beach 105 St (A,S)', '85 St-Forest Pkwy (J)', 'Tremont Av (B,D)', '233 St (2,5)', 'Canal St (1)', 'Rector St (1)', 'Pelham Pkwy (5)', '145 St (A,C,B,D)', 'Aqueduct-N Conduit Av (A)', 'Broad Channel (A,S)', 'Beach 98 St (A,S)'), 68345.0]\n",
      "10000000 [('Beach 105 St (A,S)', '85 St-Forest Pkwy (J)', 'Tremont Av (B,D)', '233 St (2,5)', 'Canal St (1)', 'Rector St (1)', 'Pelham Pkwy (5)', '145 St (A,C,B,D)', 'Aqueduct-N Conduit Av (A)', 'Broad Channel (A,S)', 'Beach 98 St (A,S)'), 68345.0]\n",
      "11000000 [('Beach 105 St (A,S)', '85 St-Forest Pkwy (J)', 'Tremont Av (B,D)', '233 St (2,5)', 'Canal St (1)', 'Rector St (1)', 'Pelham Pkwy (5)', '145 St (A,C,B,D)', 'Beach 90 St (A,S)', 'Broad Channel (A,S)', 'Beach 98 St (A,S)'), 67775.0]\n",
      "12000000 [('Beach 105 St (A,S)', '85 St-Forest Pkwy (J)', 'Tremont Av (B,D)', '233 St (2,5)', 'Canal St (1)', 'Rector St (1)', 'Pelham Pkwy (5)', '145 St (A,C,B,D)', 'Beach 90 St (A,S)', 'Broad Channel (A,S)', 'Beach 98 St (A,S)'), 67775.0]\n",
      "13000000 [('Beach 105 St (A,S)', '85 St-Forest Pkwy (J)', 'Tremont Av (B,D)', '233 St (2,5)', 'Canal St (1)', 'Rector St (1)', 'Pelham Pkwy (5)', '145 St (A,C,B,D)', 'Beach 90 St (A,S)', 'Broad Channel (A,S)', 'Beach 98 St (A,S)'), 67775.0]\n",
      "14000000 [('Beach 105 St (A,S)', '85 St-Forest Pkwy (J)', 'Tremont Av (B,D)', '233 St (2,5)', 'Canal St (1)', 'Rector St (1)', 'Pelham Pkwy (5)', '145 St (A,C,B,D)', 'Beach 90 St (A,S)', 'Broad Channel (A,S)', 'Beach 98 St (A,S)'), 67775.0]\n",
      "15000000 [('Beach 105 St (A,S)', '85 St-Forest Pkwy (J)', 'Tremont Av (B,D)', '233 St (2,5)', 'Canal St (1)', 'Rector St (1)', 'Pelham Pkwy (5)', '145 St (A,C,B,D)', 'Beach 90 St (A,S)', 'Broad Channel (A,S)', 'Beach 98 St (A,S)'), 67775.0]\n",
      "16000000 [('Beach 105 St (A,S)', '85 St-Forest Pkwy (J)', 'Tremont Av (B,D)', '233 St (2,5)', 'Canal St (1)', 'Rector St (1)', 'Pelham Pkwy (5)', 'Lorimer St (L)/Metropolitan Av (G)', 'Aqueduct Racetrack (A)', 'Broad Channel (A,S)', 'Beach 98 St (A,S)'), 67644.0]\n",
      "17000000 [('Beach 105 St (A,S)', '85 St-Forest Pkwy (J)', 'Tremont Av (B,D)', '233 St (2,5)', 'Canal St (1)', 'Rector St (1)', 'Pelham Pkwy (5)', 'Lorimer St (L)/Metropolitan Av (G)', 'Aqueduct Racetrack (A)', 'Broad Channel (A,S)', 'Beach 98 St (A,S)'), 67644.0]\n",
      "18000000 [('Beach 105 St (A,S)', '85 St-Forest Pkwy (J)', 'Tremont Av (B,D)', '233 St (2,5)', 'Canal St (1)', 'Rector St (1)', 'Pelham Pkwy (5)', 'Lorimer St (L)/Metropolitan Av (G)', 'Aqueduct-N Conduit Av (A)', 'Broad Channel (A,S)', 'Beach 98 St (A,S)'), 67489.0]\n",
      "19000000 [('Beach 105 St (A,S)', '85 St-Forest Pkwy (J)', 'Tremont Av (B,D)', '233 St (2,5)', 'Canal St (1)', 'Rector St (1)', 'Pelham Pkwy (5)', 'Lorimer St (L)/Metropolitan Av (G)', 'Aqueduct-N Conduit Av (A)', 'Broad Channel (A,S)', 'Beach 98 St (A,S)'), 67489.0]\n",
      "20000000 [('Beach 105 St (A,S)', '85 St-Forest Pkwy (J)', 'Tremont Av (B,D)', '233 St (2,5)', 'Canal St (1)', 'Rector St (1)', 'Pelham Pkwy (5)', 'Lorimer St (L)/Metropolitan Av (G)', 'Aqueduct-N Conduit Av (A)', 'Broad Channel (A,S)', 'Beach 98 St (A,S)'), 67489.0]\n",
      "21000000 [('Beach 105 St (A,S)', '85 St-Forest Pkwy (J)', 'Tremont Av (B,D)', '233 St (2,5)', 'Canal St (1)', 'Rector St (1)', 'Pelham Pkwy (5)', 'Lorimer St (L)/Metropolitan Av (G)', 'Aqueduct-N Conduit Av (A)', 'Broad Channel (A,S)', 'Beach 98 St (A,S)'), 67489.0]\n",
      "22000000 [('Beach 105 St (A,S)', '85 St-Forest Pkwy (J)', 'Tremont Av (B,D)', '233 St (2,5)', 'Canal St (1)', 'Rector St (1)', 'Pelham Pkwy (5)', 'Lorimer St (L)/Metropolitan Av (G)', 'Aqueduct-N Conduit Av (A)', 'Broad Channel (A,S)', 'Beach 98 St (A,S)'), 67489.0]\n"
     ]
    },
    {
     "ename": "KeyboardInterrupt",
     "evalue": "",
     "output_type": "error",
     "traceback": [
      "\u001b[0;31m---------------------------------------------------------------------------\u001b[0m",
      "\u001b[0;31mKeyboardInterrupt\u001b[0m                         Traceback (most recent call last)",
      "Cell \u001b[0;32mIn[29], line 7\u001b[0m\n\u001b[1;32m      5\u001b[0m \u001b[39mfor\u001b[39;00m i \u001b[39min\u001b[39;00m \u001b[39mrange\u001b[39m(n):\n\u001b[1;32m      6\u001b[0m     \u001b[39mfor\u001b[39;00m j \u001b[39min\u001b[39;00m \u001b[39mrange\u001b[39m(i\u001b[39m+\u001b[39m\u001b[39m1\u001b[39m, n):\n\u001b[0;32m----> 7\u001b[0m         val \u001b[39m+\u001b[39m\u001b[39m=\u001b[39m favorability(comb[i], comb[j])\n\u001b[1;32m      8\u001b[0m \u001b[39mif\u001b[39;00m val \u001b[39m<\u001b[39m leading[\u001b[39m1\u001b[39m]:\n\u001b[1;32m      9\u001b[0m     leading \u001b[39m=\u001b[39m [comb, val]\n",
      "\u001b[0;31mKeyboardInterrupt\u001b[0m: "
     ]
    }
   ],
   "source": [
    "for comb in combs:\n",
    "    counter+=1\n",
    "    if counter%1_000_000 == 0: print(counter, leading)\n",
    "    val = 0\n",
    "    for i in range(n):\n",
    "        for j in range(i+1, n):\n",
    "            val += favorability(comb[i], comb[j])\n",
    "    if val < leading[1]:\n",
    "        leading = [comb, val]\n",
    "\n",
    "print(leading)"
   ]
  },
  {
   "cell_type": "code",
   "execution_count": 30,
   "metadata": {},
   "outputs": [
    {
     "name": "stdout",
     "output_type": "stream",
     "text": [
      "[{'Beach 105 St (A,S)'}, {'85 St-Forest Pkwy (J)'}, {'Tremont Av (B,D)'}, {'233 St (2,5)'}, {'Canal St (1)'}, {'Rector St (1)'}, {'Pelham Pkwy (5)'}, {'Lorimer St (L)/Metropolitan Av (G)'}, {'Aqueduct-N Conduit Av (A)'}, {'Broad Channel (A,S)'}, {'Beach 98 St (A,S)'}]\n"
     ]
    }
   ],
   "source": [
    "# Run the above code and save the final separated stations here\n",
    "\n",
    "station_origins = ['Beach 105 St (A,S)', '85 St-Forest Pkwy (J)', 'Tremont Av (B,D)', '233 St (2,5)', 'Canal St (1)', 'Rector St (1)', 'Pelham Pkwy (5)', 'Lorimer St (L)/Metropolitan Av (G)', 'Aqueduct-N Conduit Av (A)', 'Broad Channel (A,S)', 'Beach 98 St (A,S)']\n",
    "\n",
    "lines = [set([k]) for k in station_origins]\n",
    "print(lines)"
   ]
  },
  {
   "cell_type": "code",
   "execution_count": 33,
   "metadata": {},
   "outputs": [
    {
     "name": "stdout",
     "output_type": "stream",
     "text": [
      "[{'Beach 105 St (A,S)'}, {'Beach 44 St (A)', '85 St-Forest Pkwy (J)', 'Beach 60 St (A)', 'Beach 25 St (A)', 'Allerton Av (2,5)', 'Beach 36 St (A)', '75 St-Elderts Ln (J,Z)'}, {'Cypress Hills (J)', 'Tremont Av (B,D)', 'Pelham Pkwy (5)', 'Beach 90 St (A,S)', 'Sutter Av (L)', '219 St (2,5)', 'Gun Hill Rd (5)', 'Norwood Av (J,Z)', 'Middletown Rd (6)', 'Beach 67 St (A)', 'Beverly Rd (2,5)', 'Buhre Av (6)'}, {'Canarsie-Rockaway Pkwy (L)', 'Chauncey St (J,Z)', '163 St-Amsterdam Av (C)', 'Aqueduct Racetrack (A)', '233 St (2,5)', 'Longwood Av (6)'}, {'21 St (G)', 'Hoyt St (2,3)', 'Canal St (1)', 'Fulton St (G)', 'Flushing Av (G)', '36 St (M,R)', 'Tompkinsville (SIR)', 'RI Tramway (Manhattan)', 'Flushing Av (M,J)', 'Mets-Willets Point (7)', 'Avenue I (F)', 'Franklin St (1)', 'City Hall (R,W)', 'Rector St (R,W)', 'Broad St (J,Z)', '3 Av (L)', '55 St (D)'}, {'W 8 St-NY Aquarium (F,Q)', 'Eastern Pkwy-Brooklyn Museum (2,3)', 'Rector St (1)', '39 Av-Dutch Kills (N,W)', \"E 143 St-St Mary's St (6)\", 'Lafayette Av (C)', 'Morgan Av (L)', 'Montrose Av (L)', 'Bowery (J,Z)'}, {'104 St (A)', 'Van Siclen Av (3)', 'Pelham Pkwy (5)', 'Beach 36 St (A)', 'Whitlock Av (6)'}, {'85 St-Forest Pkwy (J)', 'Tremont Av (B,D)', '233 St (2,5)', 'Canal St (1)', 'Rector St (1)', 'Pelham Pkwy (5)', '145 St (A,C,B,D)', 'Inwood-207 St (A)', 'Lorimer St (L)/Metropolitan Av (G)', 'Parsons Blvd (F)', 'Allerton Av (2,5)', '33 St (6)', '4 Av (F,G)/9 St (R)', '96 St (6)', 'Gun Hill Rd (5)', 'East Broadway (F)', '75 St-Elderts Ln (J,Z)', 'Bay Pkwy (D)', 'Fordham Rd (B,D)', '163 St-Amsterdam Av (C)', 'Lafayette Av (C)', 'Kings Hwy (B,Q)', '86 St (Q)', 'Montrose Av (L)', '149 St-Grand Concourse (2,4,5)', 'Buhre Av (6)', 'Burnside Av (4)', 'Bowery (J,Z)', 'Jackson Av (2,5)', 'Canarsie-Rockaway Pkwy (L)', 'Kosciuszko St (J)', 'Longwood Av (6)', 'Beverly Rd (2,5)', 'Avenue J (Q)', 'Chauncey St (J,Z)', '96 St (Q)', 'Sterling St (2,5)', 'Greenpoint Av (G)', '67 Av (M,R)', '116 St-Columbia University (1)', 'Pelham Bay Park (6)', 'Sutter Av-Rutland Rd (3)', 'Mosholu Pkwy (4)', 'Queens Plaza (E,M,R)', 'Wilson Av (L)', '219 St (2,5)', 'Graham Av (L)', '8 Av (N)', 'Morgan Av (L)', '81 St-Museum of Natural History (C,B)', 'Hoyt-Schermerhorn Sts (A,C,G)', 'Elmhurst Av (M,R)', 'Hunts Point Av (6)', '23 St (1)', '39 Av-Dutch Kills (N,W)', 'Aqueduct Racetrack (A)', 'Rector St (R,W)', '50 St (C,E)', 'Steinway St (M,R)', 'Chambers St (A,C)/WTC (E)/Park Pl (2,3)/Cortlandt (R,W)', '30 Av (N,W)', '52 St (7)', 'Westchester Sq-E Tremont Av (6)', 'Hoyt St (2,3)', 'Fulton St (G)', 'Beach 60 St (A)', '18 Av (F)', 'Pelham Pkwy (2,5)', '125 St (A,C,B,D)', 'Sutter Av (L)', '111 St (7)', 'Halsey St (J)', 'Flushing Av (M,J)', 'Mets-Willets Point (7)', 'Norwood Av (J,Z)', 'Middletown Rd (6)', 'Livonia Av (L)', 'Union St (R)', '23 St (C,E)', '57 St-7 Av (N,Q,R,W)', 'Grand St (L)', 'Sutphin Blvd (F)', 'Cypress Hills (J)', 'Van Siclen Av (3)', 'New Lots Av (3)', '170 St (4)', 'Eastern Pkwy-Brooklyn Museum (2,3)', 'Aqueduct-N Conduit Av (A)', 'Beach 67 St (A)', 'W 8 St-NY Aquarium (F,Q)', '65 St (M,R)', 'Bedford Park Blvd (B,D)', '8 St-NYU (R,W)', 'Woodhaven Blvd (J,Z)', 'City Hall (R,W)', '28 St (R,W)', 'Whitlock Av (6)', 'Church Av (B,Q)', 'DeKalb Av (L)', 'Rockaway Av (C)', '34 St-Hudson Yards (7)', 'Myrtle Av (M,J,Z)', 'Grand Av-Newtown (M,R)', 'RI Tramway (Roosevelt)', 'Middle Village-Metropolitan Av (M)', 'RI Tramway (Manhattan)', '155 St (C)', '18 Av (N)', 'Central Av (M)', '96 St (1,2,3)', 'Knickerbocker Av (M)', 'WTC Cortlandt (1)', 'Bushwick Av-Aberdeen St (L)', 'Bedford-Nostrand Avs (G)', 'Ditmas Av (F)', 'Jamaica-Van Wyck (E)', 'St George (SIR)', '182-183 Sts (B,D)', 'Ralph Av (C)', '57 St (F)', '50 St (1)', 'Court Sq (E,G,M,7)', 'Franklin Av (2,3,4,5)/Botanic Garden (S)', 'Briarwood (E,F)', 'Atlantic Av-Barclays Ctr (B,D,N,Q,R,2,3,4,5)', '3 Av-149 St (2,5)', 'Bergen St (F,G)', 'Brook Av (6)', 'Utica Av (A,C)', '183 St (4)', 'Bryant Pk (B,D,F,M)/5 Av (7)', 'Avenue X (F)', '116 St (2,3)', '103 St (C,B)', 'Atlantic Av (L)', 'Fort Hamilton Pkwy (N)', '190 St (A)', '145 St (1)', 'Cathedral Pkwy (110 St) (1)', 'Clinton-Washington Avs (C)', 'Avenue U (N)', \"E 143 St-St Mary's St (6)\", '116 St (6)', '77 St (6)', 'St Lawrence Av (6)', 'Jay St-MetroTech (A,C,F,R)', '137 St-City College (1)', 'Church Av (2,5)', '28 St (6)', 'Halsey St (L)', 'Grant Av (A)', 'Far Rockaway-Mott Av (A)', 'Newkirk Plaza (B,Q)', 'Fordham Rd (4)', 'Kings Hwy (N)', 'Delancey St (F)/Essex St (J,M,Z)', '104 St (J,Z)', '25 St (R)', 'Simpson St (2,5)', 'Prospect Av (2,5)', 'Nevins St (2,3,4,5)', 'Gates Av (J,Z)', 'Morris Park (5)', 'Avenue I (F)', 'Harlem-148 St (3)', '59 St-Columbus Circle (A,B,C,D,1)', 'Woodlawn (4)', 'Marble Hill-225 St (1)', '21 St-Queensbridge (F)', 'South Ferry (1)/Whitehall St (R,W)', 'Norwood-205 St (D)', 'Rockaway Blvd (A)', 'Avenue H (Q)', '110 St (6)', 'Ocean Pkwy (Q)', 'Broadway (G)', 'Brighton Beach (B,Q)', 'Vernon Blvd-Jackson Av (7)', '225 St (2,5)', 'Broadway (N,W)', 'Alabama Av (J)', 'Bedford Av (L)', '145 St (3)', '25 Av (D)', 'Howard Beach-JFK Airport (A)', 'Kingsbridge Rd (B,D)', 'Franklin St (1)', 'Forest Av (M)', 'Central Park North (110 St) (2,3)', 'Wall St (2,3)', '80 St (A)', '66 St-Lincoln Center (1)', 'Park Pl (S)', '168 St (A,C,1)', 'Beach 90 St (A,S)', 'Classon Av (G)', '88 St (A)', '167 St (4)', 'Van Siclen Av (J,Z)', 'Beach 25 St (A)', 'Myrtle-Wyckoff Avs (L,M)', 'Lexington Av-53 St (E,M)/51 St (6)', 'Jamaica Center-Parsons/Archer (E,J,Z)', '36 St (D,N,R)', 'Bowling Green (4,5)', 'Hewes St (M,J)', '125 St (1)', '82 St-Jackson Hts (7)', 'Court St (R)/Borough Hall (2,3,4,5)', '61 St-Woodside (7)', 'Cypress Av (6)', '181 St (1)', '103 St (6)', '50 St (D)', 'Nereid Av (2,5)', 'Canal St (J,N,Q,R,W,Z,6)', '96 St (C,B)', '86 St (C,B)', 'Astor Pl (6)', 'Clinton-Washington Avs (G)', 'Broadway Junction (A,C,J,L,Z)', 'Van Siclen Av (C)', 'President St-Medgar Evers College (2,5)', '15 St-Prospect Park (F,G)', '111 St (J)', 'Shepherd Av (C)', 'Houston St (1)', '7 Av (F,G)', 'E 180 St (2,5)', '69 St (7)', 'W 4 St-Wash Sq (A,C,E,B,D,F,M)', '7 Av (E,B,D)', 'Avenue U (Q)', '7 Av (B,Q)', '63 Dr-Rego Park (M,R)', 'Carroll St (F,G)', '135 St (2,3)', '176 St (4)', '121 St (J,Z)', 'Burke Av (2,5)', 'Broad Channel (A,S)', 'Kingsbridge Rd (4)', 'Franklin Av (C,S)', 'Crown Hts-Utica Av (3,4)', '90 St-Elmhurst Av (7)', 'Forest Hills-71 Av (E,F,M,R)', 'Dyckman St (1)', '169 St (F)', 'Pennsylvania Av (3)', 'Fresh Pond Rd (M)', 'Rockaway Av (3)', 'New Lots Av (L)', 'Spring St (6)', 'Beach 36 St (A)', '231 St (1)', 'Eastchester-Dyre Av (5)', 'Jamaica-179 St (F)', 'Flushing Av (G)', 'Woodhaven Blvd (M,R)', '14 St-Union Sq (L,N,Q,R,W,4,5,6)', '174 St (2,5)', 'Junius St (3)', '103 St (1)', '79 St (1)', 'Flatbush Av-Brooklyn College (2,5)', '86 St (4,5,6)', 'Lorimer St (M,J)', '3 Av (L)', '238 St (1)', 'Lexington Av (N,R,W)/59 St (4,5,6)', 'Dyckman St (A)', '181 St (A)', '72 St (1,2,3)', '55 St (D)', '2 Av (F)', '9 Av (D)', '135 St (C,B)', 'Grand St (B,D)', '111 St (A)', 'New Utrecht Av (N)/62 St (D)', '14 St (F,M,1,2,3)/6 Av (L)', '53 St (R)', 'Avenue P (F)', '104 St (A)', '36 St (M,R)', 'Kingston Av (3)', '72 St (C,B)', 'Newkirk Av-Little Haiti (2,5)', 'Kew Gardens-Union Tpke (E,F)', '103 St-Corona Plaza (7)', '116 St (C,B)', 'Elder Av (6)', 'Broad St (J,Z)', '34 St-Penn Station (A,C,E)', '75 Av (E,F)', '21 St (G)', '215 St (1)', '34 St-Herald Sq (B,D,F,M,N,Q,R,W)', 'Prince St (R,W)', 'Bay Ridge Av (R)', 'Saratoga Av (3)', 'Clark St (2,3)', 'Zerega Av (6)', '40 St-Lowery St (7)', '49 St (N,R,W)', '167 St (B,D)', 'Grand Army Plaza (2,3)', '45 St (R)', '86 St (R)', 'Cleveland St (J)', 'Marcy Av (M,J,Z)', 'Bay Ridge-95 St (R)', '34 St-Penn Station (1,2,3)', '46 St (M,R)', '5 Av/53 St (E,M)', 'Cathedral Pkwy (110 St) (C,B)', 'Wakefield-241 St (2)', 'Prospect Av (R)', '157 St (1)', 'Smith-9 Sts (F,G)', '14 St (A,C,E)/8 Av (L)', 'Lexington Av/63 St (F,Q)', 'Bay 50 St (D)', 'Van Cortlandt Park-242 St (1)', '170 St (B,D)', 'Morrison Av-Soundview (6)', 'E 149 St (6)', '20 Av (D)', '23 St (6)', 'Bronx Park East (2,5)', 'Sheepshead Bay (B,Q)', '1 Av (L)', 'DeKalb Av (B,Q,R)', '33 St-Rawson St (7)', 'Spring St (C,E)', 'Crescent St (J,Z)', 'Cortelyou Rd (Q)', '5 Av/59 St (N,R,W)', 'East 105 St (L)', '72 St (Q)', 'Ozone Park-Lefferts Blvd (A)', '20 Av (N)', '86 St (1)', '28 St (1)', 'Jefferson St (L)', '77 St (R)', 'Neck Rd (Q)', 'Neptune Av (F)', 'Queensboro Plaza (7,N,W)', 'Parkside Av (Q)', 'Grand Central-42 St (S,4,5,6,7)', 'Avenue M (Q)', 'Flushing-Main St (7)', 'Winthrop St (2,5)', '59 St (N,R)', 'Beverley Rd (Q)', 'Avenue U (F)', 'Fulton St (A,C,J,Z,2,3,4,5)', '125 St (2,3)', 'Seneca Av (M)', 'Nostrand Av (3)', 'Nassau Av (G)', '46 St-Bliss St (7)', 'Northern Blvd (M,R)', 'Kings Hwy (F)', 'Intervale Av (2,5)', '71 St (D)', 'Canal St (A,C,E)', 'Fort Hamilton Pkwy (D)', 'Bay Pkwy (N)', '18 St (1)', '138 St-Grand Concourse (4,5)', '175 St (A)', 'Tompkinsville (SIR)', 'York St (F)', 'Freeman St (2,5)', '191 St (1)', 'Euclid Av (A,C)', '86 St (N)', 'Beach 98 St (A,S)', 'Fort Hamilton Pkwy (F,G)', 'Baychester Av (5)', 'Hunters Point Av (7)', 'Brooklyn Bridge-City Hall (4,5,6)/Chambers St (J,Z)', 'Broadway-Lafayette St (B,D,F,M)/Bleecker St (6)', '36 Av (N,W)', 'Nostrand Av (A,C)', '23 St (R,W)', '161 St-Yankee Stadium (B,D,4)', '207 St (1)', 'Bay Pkwy (F)', 'Wall St (4,5)', 'Castle Hill Av (6)', 'Coney Island-Stillwell Av (D,F,N,Q)', 'Sutphin Blvd-Archer Av-JFK Airport (E,J,Z)', 'Beach 44 St (A)', '155 St (B,D)', 'Prospect Park (B,Q,S)', 'Christopher St-Sheridan Sq (1)', 'West Farms Sq-E Tremont Av (2,5)', 'Church Av (F,G)', 'Junction Blvd (7)', '3 Av-138 St (6)', '174-175 Sts (B,D)', 'Avenue N (F)', '47-50 Sts-Rockefeller Ctr (B,D,F,M)', 'Astoria-Ditmars Blvd (N,W)', 'Parkchester (6)', 'Gun Hill Rd (2,5)', 'Myrtle-Willoughby Avs (G)', 'Bedford Park Blvd-Lehman College (4)', '23 St (F,M)', '74-Broadway (7)/Jackson Hts-Roosevelt Av (E,F,M,R)', 'Roosevelt Island (F)', '125 St (4,5,6)', '18 Av (D)', 'Rockaway Park-Beach 116 St (A,S)', 'Liberty Av (C)', 'Mt Eden Av (4)', '79 St (D)', '68 St-Hunter College (6)', 'Astoria Blvd (N,W)', 'Bergen St (2,3)', 'High St (A,C)', 'Chambers St (1,2,3)', 'Times Sq-42 St (N,Q,R,W,S,1,2,3,7)/42 St (A,C,E)', 'Kingston-Throop Avs (C)'}, {'Aqueduct-N Conduit Av (A)'}, {'Broad Channel (A,S)'}, {'Beach 98 St (A,S)'}]\n"
     ]
    }
   ],
   "source": [
    "for station in stations:\n",
    "    leading = (-1, -1)\n",
    "    for line_ind in range(len(lines)):\n",
    "        line = lines[line_ind]\n",
    "        utility = 0\n",
    "        for elem in line:\n",
    "            utility += favorability(station, elem)\n",
    "        utility /= len(line)\n",
    "        if utility > leading[1]: leading = (line_ind, utility)\n",
    "    lines[leading[0]].add(station)\n",
    "\n",
    "print(lines)\n",
    "\n",
    "\n",
    "\n"
   ]
  },
  {
   "cell_type": "code",
   "execution_count": 34,
   "metadata": {},
   "outputs": [],
   "source": [
    "lines = [list(line) for line in lines]\n",
    "data[\"other_data\"][\"new_lines\"] = lines"
   ]
  },
  {
   "cell_type": "code",
   "execution_count": 35,
   "metadata": {},
   "outputs": [],
   "source": [
    "out_file = open(\"data/data.json\", \"w\") \n",
    "  \n",
    "json.dump(data, out_file) \n",
    "  \n",
    "out_file.close()"
   ]
  }
 ],
 "metadata": {
  "kernelspec": {
   "display_name": "Python 3",
   "language": "python",
   "name": "python3"
  },
  "language_info": {
   "codemirror_mode": {
    "name": "ipython",
    "version": 3
   },
   "file_extension": ".py",
   "mimetype": "text/x-python",
   "name": "python",
   "nbconvert_exporter": "python",
   "pygments_lexer": "ipython3",
   "version": "3.11.4"
  },
  "orig_nbformat": 4
 },
 "nbformat": 4,
 "nbformat_minor": 2
}
