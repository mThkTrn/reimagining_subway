{
 "cells": [
  {
   "cell_type": "code",
   "execution_count": 2,
   "metadata": {},
   "outputs": [],
   "source": [
    "import json\n",
    "import itertools"
   ]
  },
  {
   "cell_type": "code",
   "execution_count": 3,
   "metadata": {},
   "outputs": [],
   "source": [
    "data = json.load(open(\"data/data.json\"))"
   ]
  },
  {
   "cell_type": "code",
   "execution_count": 4,
   "metadata": {},
   "outputs": [],
   "source": [
    "def data_grab(station, time):\n",
    "    try:\n",
    "        return data[\"stations\"][station][\"times\"][time][\"all_fare_classes\"][\"ridership\"]\n",
    "    except KeyError:\n",
    "        return 0\n",
    "\n",
    "favorabilities = {}\n",
    "\n",
    "def favorability(s1, s2):\n",
    "    if (s1, s2) in favorabilities:\n",
    "        return favorabilities[(s1, s2)]\n",
    "    else:\n",
    "        # print(f\"falling favorability(s1: {s1}, s2: {s2})\")\n",
    "        out = 0\n",
    "        for time in range(24):\n",
    "            time = f\"{time:02}:00:00.000\"\n",
    "            out += min(data_grab(s1, time), data_grab(s2, time))\n",
    "        favorabilities[(s1, s2)] = out\n",
    "        return out"
   ]
  },
  {
   "cell_type": "code",
   "execution_count": 5,
   "metadata": {},
   "outputs": [],
   "source": [
    "stations = set(data[\"stations\"].keys())\n",
    "\n",
    "n = 11 #number of lines"
   ]
  },
  {
   "cell_type": "code",
   "execution_count": 6,
   "metadata": {},
   "outputs": [
    {
     "name": "stdout",
     "output_type": "stream",
     "text": [
      "<itertools.combinations object at 0x1104f6de0>\n"
     ]
    }
   ],
   "source": [
    "combs = itertools.combinations(stations, n)\n",
    "\n",
    "\n",
    "leading = [(\"foo\", \"bar\", \"egg\", \"spam\", \"hello\"), 1_000_000_000_000_000]\n",
    "counter = 0\n",
    "\n",
    "print((combs))"
   ]
  },
  {
   "cell_type": "code",
   "execution_count": 7,
   "metadata": {},
   "outputs": [
    {
     "ename": "KeyboardInterrupt",
     "evalue": "",
     "output_type": "error",
     "traceback": [
      "\u001b[0;31m---------------------------------------------------------------------------\u001b[0m",
      "\u001b[0;31mKeyboardInterrupt\u001b[0m                         Traceback (most recent call last)",
      "Cell \u001b[0;32mIn[7], line 7\u001b[0m\n\u001b[1;32m      5\u001b[0m \u001b[39mfor\u001b[39;00m i \u001b[39min\u001b[39;00m \u001b[39mrange\u001b[39m(n):\n\u001b[1;32m      6\u001b[0m     \u001b[39mfor\u001b[39;00m j \u001b[39min\u001b[39;00m \u001b[39mrange\u001b[39m(i\u001b[39m+\u001b[39m\u001b[39m1\u001b[39m, n):\n\u001b[0;32m----> 7\u001b[0m         val \u001b[39m+\u001b[39m\u001b[39m=\u001b[39m favorability(comb[i], comb[j])\n\u001b[1;32m      8\u001b[0m \u001b[39mif\u001b[39;00m val \u001b[39m<\u001b[39m leading[\u001b[39m1\u001b[39m]:\n\u001b[1;32m      9\u001b[0m     leading \u001b[39m=\u001b[39m [comb, val]\n",
      "Cell \u001b[0;32mIn[4], line 9\u001b[0m, in \u001b[0;36mfavorability\u001b[0;34m(s1, s2)\u001b[0m\n\u001b[1;32m      5\u001b[0m         \u001b[39mreturn\u001b[39;00m \u001b[39m0\u001b[39m\n\u001b[1;32m      7\u001b[0m favorabilities \u001b[39m=\u001b[39m {}\n\u001b[0;32m----> 9\u001b[0m \u001b[39mdef\u001b[39;00m \u001b[39mfavorability\u001b[39m(s1, s2):\n\u001b[1;32m     10\u001b[0m     \u001b[39mif\u001b[39;00m (s1, s2) \u001b[39min\u001b[39;00m favorabilities:\n\u001b[1;32m     11\u001b[0m         \u001b[39mreturn\u001b[39;00m favorabilities[(s1, s2)]\n",
      "\u001b[0;31mKeyboardInterrupt\u001b[0m: "
     ]
    }
   ],
   "source": [
    "for comb in combs:\n",
    "    counter+=1\n",
    "    if counter%1_000_000 == 0: print(counter, leading)\n",
    "    val = 0\n",
    "    for i in range(n):\n",
    "        for j in range(i+1, n):\n",
    "            val += favorability(comb[i], comb[j])\n",
    "    if val < leading[1]:\n",
    "        leading = [comb, val]\n",
    "\n",
    "print(leading)"
   ]
  },
  {
   "cell_type": "code",
   "execution_count": 8,
   "metadata": {},
   "outputs": [
    {
     "name": "stdout",
     "output_type": "stream",
     "text": [
      "[{'Beach 105 St (A,S)'}, {'85 St-Forest Pkwy (J)'}, {'Tremont Av (B,D)'}, {'233 St (2,5)'}, {'Canal St (1)'}, {'Rector St (1)'}, {'Pelham Pkwy (5)'}, {'Lorimer St (L)/Metropolitan Av (G)'}, {'Aqueduct-N Conduit Av (A)'}, {'Broad Channel (A,S)'}, {'Beach 98 St (A,S)'}]\n"
     ]
    }
   ],
   "source": [
    "# Run the above code and save the final separated stations here\n",
    "\n",
    "station_origins = ['Beach 105 St (A,S)', '85 St-Forest Pkwy (J)', 'Tremont Av (B,D)', '233 St (2,5)', 'Canal St (1)', 'Rector St (1)', 'Pelham Pkwy (5)', 'Lorimer St (L)/Metropolitan Av (G)', 'Aqueduct-N Conduit Av (A)', 'Broad Channel (A,S)', 'Beach 98 St (A,S)']\n",
    "\n",
    "lines = [set([k]) for k in station_origins]\n",
    "print(lines)"
   ]
  },
  {
   "cell_type": "code",
   "execution_count": 9,
   "metadata": {},
   "outputs": [
    {
     "name": "stdout",
     "output_type": "stream",
     "text": [
      "[{'Beach 105 St (A,S)'}, {'85 St-Forest Pkwy (J)'}, {'Tremont Av (B,D)'}, {'233 St (2,5)'}, {'Canal St (1)'}, {'Rector St (1)'}, {'Pelham Pkwy (5)'}, {'Lorimer St (L)/Metropolitan Av (G)'}, {'Aqueduct-N Conduit Av (A)'}, {'Broad Channel (A,S)'}, {'Beach 98 St (A,S)'}]\n"
     ]
    }
   ],
   "source": [
    "included = set()\n",
    "\n",
    "while (stations - included) != set():\n",
    "    for line in lines:\n",
    "        leading = leading = (\"fakestation\", -1)\n",
    "        for station in stations:\n",
    "            val = 0\n",
    "            for elem in line:\n",
    "                val += favorability(station, elem)\n",
    "            if val > leading[1]: leading = [station, val]\n",
    "        line.add(leading[0])\n",
    "        included.add(leading[0])\n",
    "\n",
    "# for station in stations:\n",
    "#     leading = (-1, -1)\n",
    "#     for line_ind in range(len(lines)):\n",
    "#         line = lines[line_ind]\n",
    "#         utility = 0\n",
    "#         for elem in line:\n",
    "#             utility += favorability(station, elem)\n",
    "#         utility /= len(line)\n",
    "#         if utility > leading[1]: leading = (line_ind, utility)\n",
    "#     lines[leading[0]].add(station)\n",
    "\n",
    "print(lines)\n",
    "\n",
    "\n",
    "\n"
   ]
  },
  {
   "cell_type": "code",
   "execution_count": 34,
   "metadata": {},
   "outputs": [],
   "source": [
    "lines = [list(line) for line in lines]\n",
    "data[\"other_data\"][\"new_lines\"] = lines"
   ]
  },
  {
   "cell_type": "code",
   "execution_count": 35,
   "metadata": {},
   "outputs": [],
   "source": [
    "out_file = open(\"data/data.json\", \"w\") \n",
    "  \n",
    "json.dump(data, out_file) \n",
    "  \n",
    "out_file.close()"
   ]
  }
 ],
 "metadata": {
  "kernelspec": {
   "display_name": "Python 3",
   "language": "python",
   "name": "python3"
  },
  "language_info": {
   "codemirror_mode": {
    "name": "ipython",
    "version": 3
   },
   "file_extension": ".py",
   "mimetype": "text/x-python",
   "name": "python",
   "nbconvert_exporter": "python",
   "pygments_lexer": "ipython3",
   "version": "3.11.4"
  },
  "orig_nbformat": 4
 },
 "nbformat": 4,
 "nbformat_minor": 2
}
